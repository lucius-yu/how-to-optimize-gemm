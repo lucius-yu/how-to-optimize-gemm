{
 "cells": [
  {
   "cell_type": "code",
   "execution_count": 1,
   "id": "c9be9313-adde-4e10-9835-7a26f9a31825",
   "metadata": {},
   "outputs": [],
   "source": [
    "import numpy as np\n",
    "import tvm\n",
    "from tvm.ir.module import IRModule\n",
    "from tvm.script import tir as T"
   ]
  },
  {
   "cell_type": "code",
   "execution_count": 2,
   "id": "d3f29912-53e2-4c6d-8d07-1cc405d0edc4",
   "metadata": {},
   "outputs": [],
   "source": [
    "dtype = \"float32\"\n",
    "a_np = np.random.rand(128, 128).astype(dtype)\n",
    "b_np = np.random.rand(128, 128).astype(dtype)\n",
    "# a @ b is equivalent to np.matmul(a, b)\n",
    "c_mm_relu = np.maximum(a_np @ b_np, 0)"
   ]
  },
  {
   "cell_type": "markdown",
   "id": "b57a0f22-7c21-4a96-a9f0-96b625e84e4f",
   "metadata": {},
   "source": [
    "在底层，NumPy 调用库（例如 OpenBLAS）和它自己在低级 C 语言中的一些实现来执行这些计算。\n",
    "从张量程序抽象的角度来看，我们想彻底理解这些数组计算的背后的细节。具体来说，我们想问：实现相应计算的可能方式是什么？\n",
    "\n",
    "为了说明底层细节，我们将在 NumPy API 的一个受限子集中编写示例 —— 我们称之为 低级 NumPy。它使用以下的约定：\n",
    "* 我们将在必要时使用循环而不是数组函数来展示可能的循环计算。\n",
    "* 如果可能，我们总是通过 numpy.empty 显式地分配数组并传递它们。\n",
    "\n",
    "需要注意的是，这不是人们通常编写 NumPy 程序的方式。不过，它们仍然与幕后发生的事情非常相似 —— 大多数现实世界的部署解决方案都将分配与计算分开处理。特定的库使用不同形式的循环和算术计算来执行计算。当然首先它们是使用诸如 C 之类的低级语言实现的。"
   ]
  },
  {
   "cell_type": "code",
   "execution_count": 3,
   "id": "423a4d06-6dd8-408e-afb1-9813f60d545d",
   "metadata": {},
   "outputs": [],
   "source": [
    "def lnumpy_mm_relu(A: np.ndarray, B: np.ndarray, C: np.ndarray):\n",
    "    Y = np.empty((128, 128), dtype=\"float32\")\n",
    "    for i in range(128):\n",
    "        for j in range(128):\n",
    "            for k in range(128):\n",
    "                if k == 0:\n",
    "                    Y[i, j] = 0\n",
    "                Y[i, j] = Y[i, j] + A[i, k] * B[k, j]\n",
    "    for i in range(128):\n",
    "        for j in range(128):\n",
    "            C[i, j] = max(Y[i, j], 0)"
   ]
  },
  {
   "cell_type": "markdown",
   "id": "338b4527-5910-4732-a1ee-a9245e15788e",
   "metadata": {},
   "source": [
    "上面的程序是实现 mm_relu 操作的一种方式。该程序包含两个阶段：首先我们分配一个中间存储，将矩阵乘法的结果存储在那里。然后我们在第二个 for 循环序列中计算 ReLU。你可能会注意到，这肯定不是实现 mm_relu 的唯一方法，当然这可能也不是你想到的第一件事。\n",
    "\n",
    "无论如何，这确实是实现 mm_relu 的方式之一。我们可以通过将我们的结果与使用数组计算的原始结果进行比较来验证代码的正确性。我们将在本节的后面部分回到这里，并重新讨论其他可能的方法。"
   ]
  },
  {
   "cell_type": "code",
   "execution_count": 4,
   "id": "89021dcd-0aef-4b50-8959-3e4f3417b62d",
   "metadata": {},
   "outputs": [],
   "source": [
    "c_np = np.empty((128, 128), dtype=dtype)\n",
    "lnumpy_mm_relu(a_np, b_np, c_np)\n",
    "np.testing.assert_allclose(c_mm_relu, c_np, rtol=1e-5)"
   ]
  },
  {
   "cell_type": "markdown",
   "id": "782575ce-dd28-4d15-9f37-963956c1343d",
   "metadata": {},
   "source": [
    "上面的示例代码展示了我们如何在幕后实现 mm_relu。当然，由于 Python 解释器，代码本身会运行得很慢。尽管如此，示例 NumPy 代码包含我们将在这些计算的实际实现中使用的所有可能元素。\n",
    "* 多维缓冲区（数组）。\n",
    "* 在数组维度上的循环。\n",
    "* 在循环下执行的计算语句。"
   ]
  }
 ],
 "metadata": {
  "kernelspec": {
   "display_name": "Python 3 (ipykernel)",
   "language": "python",
   "name": "python3"
  },
  "language_info": {
   "codemirror_mode": {
    "name": "ipython",
    "version": 3
   },
   "file_extension": ".py",
   "mimetype": "text/x-python",
   "name": "python",
   "nbconvert_exporter": "python",
   "pygments_lexer": "ipython3",
   "version": "3.8.10"
  }
 },
 "nbformat": 4,
 "nbformat_minor": 5
}
